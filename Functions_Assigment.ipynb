{
  "nbformat": 4,
  "nbformat_minor": 0,
  "metadata": {
    "colab": {
      "provenance": []
    },
    "kernelspec": {
      "name": "python3",
      "display_name": "Python 3"
    },
    "language_info": {
      "name": "python"
    }
  },
  "cells": [
    {
      "cell_type": "markdown",
      "source": [
        "* Theory Questions\n",
        "\n",
        "1. What is the difference between a function and a method in Python?\n",
        "* Function is a reusable block of code defined using def, Method is a function that is associated with an object.\n",
        "* Function is Independent, not tied to any object. Methos is belongs to a class or object.\n",
        "* Funtion Called directly by its name. Method Called using the object (object.method())\n",
        "Example for funtion def greet(): print(\"Hello!\")\n",
        "greet()\n"
      ],
      "metadata": {
        "id": "IbqdOlCQWKxP"
      }
    },
    {
      "cell_type": "code",
      "execution_count": null,
      "metadata": {
        "colab": {
          "base_uri": "https://localhost:8080/"
        },
        "id": "BZAyoBfIV6x9",
        "outputId": "ebd7d783-e65c-4a16-d2bc-129b24d4481d"
      },
      "outputs": [
        {
          "output_type": "stream",
          "name": "stdout",
          "text": [
            "Hello!\n"
          ]
        }
      ],
      "source": [
        "#Example for funtion\n",
        "def greet(): print(\"Hello!\")\n",
        "greet()"
      ]
    },
    {
      "cell_type": "code",
      "source": [
        "#Example for Method\n",
        "class Person:\n",
        "  def greet(self):\n",
        "    print(\"Hello!\")\n",
        "    p = Person(); p.greet()"
      ],
      "metadata": {
        "id": "SWjayu-GXkfu"
      },
      "execution_count": null,
      "outputs": []
    },
    {
      "cell_type": "markdown",
      "source": [
        "2. Explain the concept of function arguments and parameters in Python.\n",
        "* In Python, parameters and arguments are used to pass data to functions.\n",
        "- Parameters: The variables listed inside the function definition.\n",
        "- Arguments: The actual values passed to the function when calling it."
      ],
      "metadata": {
        "id": "EuQ4QEgTYVNy"
      }
    },
    {
      "cell_type": "code",
      "source": [
        "#Example of Parameters and Arguments\n",
        "def greet(name):\n",
        "    print(\"Hello, \" + name + \"!\")\n",
        "\n",
        "greet(\"Alice\")"
      ],
      "metadata": {
        "colab": {
          "base_uri": "https://localhost:8080/"
        },
        "id": "QYY0RJIqXwhm",
        "outputId": "bc5209e9-e39d-454a-979a-d084111b1363"
      },
      "execution_count": null,
      "outputs": [
        {
          "output_type": "stream",
          "name": "stdout",
          "text": [
            "Hello, Alice!\n"
          ]
        }
      ]
    },
    {
      "cell_type": "code",
      "source": [
        "#Here, name is a parameter, while \"Alice\" is the argument passed when calling the function."
      ],
      "metadata": {
        "id": "Ai4W9kGlY0WH"
      },
      "execution_count": null,
      "outputs": []
    },
    {
      "cell_type": "markdown",
      "source": [
        "3. What are the different ways to define and call a function in Python?\n",
        "* Function is a block of code which perfurm some specify task or computation.\n",
        "* why functions >> functions are reusable, neat, clean and keep code organised, save time aswell.\n",
        "\n",
        "4. What is the purpose of the `return` statement in a Python function?\n",
        "* The return statement in Python exits a function and sends back a value to the caller. It allows a function to produce an output instead of just performing an action.\n",
        "\n",
        "5. What are iterators in Python and how do they differ from iterables?\n",
        "* An iterator is an object that represents a stream of data and produces elements one at a time when next() is called. An iterator remembers its current position and moves forward, but it cannot go backward.\n",
        "* An Iterable is basically an object that any user can iterate over\n",
        "\n",
        "6. Explain the concept of generators in Python and how they are defined.\n",
        "* A generator is a special type of iterator that allows you to create an iterable sequence lazily, meaning it generates values on demand instead of storing them in memory. Generators are defined using functions with the yield keyword.\n",
        "\n",
        "7. What are the advantages of using generators over regular functions?\n",
        "* Generators offer several benefits over regular functions, especially when dealing with large datasets, performance optimization, memory efficiency, Simplifies Code and Supports Infinite Sequences.\n",
        "\n",
        "8. What is a lambda function in Python and when is it typically used?\n",
        "* A lambda function also known an anonymous function is a small, one-line function without a name,it is defined using the lambda keyword.\n",
        "* It is primarily used for short, simple operations where defining a full function using def.\n",
        "\n",
        "9. Explain the purpose and usage of the `map()` function in Python.\n",
        "* `map()` in Python is a function that works as an iterator to return a result after applying a function to every item of an iterable. It is used when you want to apply a single transformation function to all the iterable elements.\n",
        "\n",
        "10. What is the difference between `map()`, `reduce()`, and `filter()` functions in Python?\n",
        "*  **map()**\n",
        "- Transform Each Element\n",
        "- Purpose: Applies a function to each element of an iterable and returns an iterator with transformed values.\n",
        "- Syntax: map(function, iterable)\n",
        "- Returns: A map object (an iterator), which can be converted into a list or another iterable.\n",
        "- we use map() when applying a transformation to each element of an iterable.\n",
        "* **filter()**\n",
        "- Select Certain Elements\n",
        "- Purpose: Filters elements from an iterable based on a condition (returns only elements that evaluate to True).\n",
        "- Syntax: filter(function, iterable)\n",
        "- Returns: A filter object (an iterator), which can be converted into a list or another iterable.\n",
        "- We use filter() When selecting specific elements from an iterable.\n",
        "* **reduce()**\n",
        "- Aggregate All Elements into a Single Value\n",
        "- Purpose: Applies a function cumulatively to the elements of an iterable, reducing them to a single value.\n",
        "- Syntax: reduce(function, iterable, initializer)\n",
        "- Returns: A single accumulated value.\n",
        "- reduce() is part of the functools module and must be imported.\n",
        "- We use reduce() When reducing a sequence to a single cumulative value and When performing aggregation operations like sum, product, or max.\n",
        "\n"
      ],
      "metadata": {
        "id": "PcUEcCHcZAe-"
      }
    },
    {
      "cell_type": "code",
      "source": [
        "# 11. write the internal mechanism for sum operation using  reduce function on this given\n",
        "#list:[47,11,42,13];\n",
        "number = [47,11,42,13]\n",
        "from functools import reduce\n",
        "Sum_result = reduce(lambda x,y:x+y,number)\n",
        "print(Sum_result)\n"
      ],
      "metadata": {
        "colab": {
          "base_uri": "https://localhost:8080/"
        },
        "id": "ZfCYiDnpY_fD",
        "outputId": "6840f692-8220-447d-f1bb-c1b07f301dfa"
      },
      "execution_count": null,
      "outputs": [
        {
          "output_type": "stream",
          "name": "stdout",
          "text": [
            "113\n"
          ]
        }
      ]
    },
    {
      "cell_type": "code",
      "source": [
        "\n",
        "# Practical Questions:\n",
        "# 1. Write a Python function that takes a list of numbers as input and returns the sum of all even numbers in the list.\n",
        "\n"
      ],
      "metadata": {
        "id": "zcfK7JXTDfJ5"
      },
      "execution_count": null,
      "outputs": []
    },
    {
      "cell_type": "code",
      "source": [
        "def sum_of_evens(numbers):\n",
        "  return sum(filter(lambda x: x % 2 == 0,numbers))\n",
        "\n",
        "numbers = [1, 2, 3, 4, 5, 6, 7, 8, 9, 10]\n",
        "print(sum_of_evens(numbers))\n",
        "\n"
      ],
      "metadata": {
        "colab": {
          "base_uri": "https://localhost:8080/"
        },
        "id": "3aDUKf91EOXh",
        "outputId": "0b6604ce-8193-46a5-e6f9-2361cc155654"
      },
      "execution_count": null,
      "outputs": [
        {
          "output_type": "stream",
          "name": "stdout",
          "text": [
            "30\n"
          ]
        }
      ]
    },
    {
      "cell_type": "code",
      "source": [
        "#2. Create a Python function that accepts a string and returns the reverse of that string.\n",
        "def reverse_string(string):\n",
        "  return string[::-1]\n",
        "string = \"Hello World\"\n",
        "print(reverse_string(string))"
      ],
      "metadata": {
        "colab": {
          "base_uri": "https://localhost:8080/"
        },
        "id": "dPpalTqoFWkI",
        "outputId": "0e6d3af2-588c-40b1-bed5-a461311624b0"
      },
      "execution_count": null,
      "outputs": [
        {
          "output_type": "stream",
          "name": "stdout",
          "text": [
            "dlroW olleH\n"
          ]
        }
      ]
    },
    {
      "cell_type": "code",
      "source": [
        "#3. Implement a Python function that takes a list of integers and returns a new list containing the squares of each number\n",
        "def square_numbers(numbers):\n",
        "  return [x**2 for x in numbers]\n",
        "numbers = [1, 2, 3, 4, 5]\n",
        "print(square_numbers(numbers))\n"
      ],
      "metadata": {
        "colab": {
          "base_uri": "https://localhost:8080/"
        },
        "id": "2SIgemY6Fe4D",
        "outputId": "17d35ab3-488b-4015-b572-fdf65ffa9145"
      },
      "execution_count": null,
      "outputs": [
        {
          "output_type": "stream",
          "name": "stdout",
          "text": [
            "[1, 4, 9, 16, 25]\n"
          ]
        }
      ]
    },
    {
      "cell_type": "code",
      "source": [
        "#4. Write a Python function that checks if a given number is prime or not from 1 to 200.\n",
        "def is_prime(number):\n",
        "  if number < 2:\n",
        "    return False\n",
        "  for i in range(2, int(number**0.5) + 1):\n",
        "    if number % i == 0:\n",
        "      return False\n",
        "  return True\n",
        "  for number in range(1, 201):\n",
        "    if is_prime(number):\n",
        "      print(number, end=\" \")"
      ],
      "metadata": {
        "id": "-5_OgwL_F3c9"
      },
      "execution_count": null,
      "outputs": []
    },
    {
      "cell_type": "code",
      "source": [
        "#5. Create an iterator class in Python that generates the Fibonacci sequence up to a specified number of terms.\n"
      ],
      "metadata": {
        "id": "aRWyIF96GNAW"
      },
      "execution_count": null,
      "outputs": []
    },
    {
      "cell_type": "code",
      "source": [
        "#6. Write a generator function in Python that yields the powers of 2 up to a given exponent.\n",
        "def power_of_two(exponent):\n",
        "  for i in range(exponent + 1):\n",
        "    yield 2 ** i\n",
        "for power in power_of_two(5):\n",
        "  print(power)"
      ],
      "metadata": {
        "colab": {
          "base_uri": "https://localhost:8080/"
        },
        "id": "HeeF0ofUHCEG",
        "outputId": "55c60973-c11a-4a8b-a828-262f0678c34c"
      },
      "execution_count": null,
      "outputs": [
        {
          "output_type": "stream",
          "name": "stdout",
          "text": [
            "1\n",
            "2\n",
            "4\n",
            "8\n",
            "16\n",
            "32\n"
          ]
        }
      ]
    },
    {
      "cell_type": "code",
      "source": [
        "#7.  Implement a generator function that reads a file line by line and yields each line as a string.\n",
        "def read_file_lines(file_path):\n",
        "  with open(file_path, 'r') as file:\n",
        "    for line in file:\n",
        "      yield line.strip()\n",
        "      for line in read_file_lines('example.txt'):\n",
        "        print(line)"
      ],
      "metadata": {
        "id": "M9Hm-PQzHS3_"
      },
      "execution_count": null,
      "outputs": []
    },
    {
      "cell_type": "code",
      "source": [
        "#8. Use a lambda function in Python to sort a list of tuples based on the second element of each tuple.\n",
        "lam = [(1, 5), (2, 3), (4, 1), (3, 8), (5, 2)]\n",
        "sorted_lam = sorted(lam, key=lambda x: x[1])\n",
        "print(sorted_lam)"
      ],
      "metadata": {
        "colab": {
          "base_uri": "https://localhost:8080/"
        },
        "id": "QOqnCOxfIeAS",
        "outputId": "600f78d4-0eca-4b1f-984f-2427389f307b"
      },
      "execution_count": null,
      "outputs": [
        {
          "output_type": "stream",
          "name": "stdout",
          "text": [
            "[(4, 1), (5, 2), (2, 3), (1, 5), (3, 8)]\n"
          ]
        }
      ]
    },
    {
      "cell_type": "code",
      "source": [
        "#9. Write a Python program that uses `map()` to convert a list of temperatures from Celsius to Fahrenheit.\n",
        "celsius_temps = [0, 10, 20]\n",
        "fahrenheit_temps = list(map(lambda x: (x * 9/5) + 32, celsius_temps))\n",
        "print(fahrenheit_temps)"
      ],
      "metadata": {
        "colab": {
          "base_uri": "https://localhost:8080/"
        },
        "id": "RG8k8vehJ1Sb",
        "outputId": "31226109-e548-46ba-c759-9ca2f91d3eed"
      },
      "execution_count": null,
      "outputs": [
        {
          "output_type": "stream",
          "name": "stdout",
          "text": [
            "[32.0, 50.0, 68.0]\n"
          ]
        }
      ]
    },
    {
      "cell_type": "code",
      "source": [
        "#10. Create a Python program that uses `filter()` to remove all the vowels from a given string.\n",
        "def remove_vowels(string):\n",
        "  vowels = 'aeiouAEIOU'\n",
        "  return ''.join(filter(lambda x: x not in vowels, string))\n",
        "string = \"Hello World\"\n",
        "print(remove_vowels(string))"
      ],
      "metadata": {
        "colab": {
          "base_uri": "https://localhost:8080/"
        },
        "id": "AZKnmeXRKCoF",
        "outputId": "f8ea675e-16b7-46dc-f48e-90d4e86267c2"
      },
      "execution_count": null,
      "outputs": [
        {
          "output_type": "stream",
          "name": "stdout",
          "text": [
            "Hll Wrld\n"
          ]
        }
      ]
    },
    {
      "cell_type": "code",
      "source": [
        "#Imagine an accounting routine used in a book shop. It works on a list with sublists, which look like this:\n",
        "'''Order number              Book title and author                         Quantity          Price per item\n",
        "34587                     Learning Python, Mark Lutz                       4                  40.95\n",
        "98762                     Programming Python,  Mark Lutz                   5                  56.80\n",
        "77226                     Head First python, Paul Barry                    3                  32.95\n",
        "88112                     Einfuhrung in Python, Bernd Klein                3                  24.99'''\n",
        "\n",
        "'''Write a Python program, which returns a list with 2-tuples. Each tuple consists of the order number and the\n",
        "product of the price per item and the quantity. The product should be increased by 10,- € if the value of the\n",
        "order is smaller than 100,00 €.'''\n",
        "\n",
        "#Write a Python program using lambda and map"
      ],
      "metadata": {
        "colab": {
          "base_uri": "https://localhost:8080/",
          "height": 53
        },
        "id": "MoZ42UY8MwWT",
        "outputId": "9f788368-7611-4b62-f0dd-0deb2988560c"
      },
      "execution_count": null,
      "outputs": [
        {
          "output_type": "execute_result",
          "data": {
            "text/plain": [
              "'Write a Python program, which returns a list with 2-tuples. Each tuple consists of the order number and the\\nproduct of the price per item and the quantity. The product should be increased by 10,- € if the value of the\\norder is smaller than 100,00 €.'"
            ],
            "application/vnd.google.colaboratory.intrinsic+json": {
              "type": "string"
            }
          },
          "metadata": {},
          "execution_count": 52
        }
      ]
    },
    {
      "cell_type": "code",
      "source": [
        "order = [\n",
        "    [34587, \"Learning Python, Mark Lutz\", 4, 40.95],\n",
        "    [98762, \"Programming Python, Mark Lutz\", 5, 56.80],\n",
        "    [77226, \"Head First python, Paul Barry\", 3, 32.95],\n",
        "    [88112, \"Einfuhrung in Python, Bernd Klein\", 3, 24.99]\n",
        "]\n",
        "order_total = list(map(lambda Order: (Order[0], Order[2] * Order[3]) if Order[2] * Order[3] >= 100 else (Order[0], Order[2] * Order[3] + 10), order))\n",
        "print(order_total)\n"
      ],
      "metadata": {
        "colab": {
          "base_uri": "https://localhost:8080/"
        },
        "id": "sKtNv74aMlYf",
        "outputId": "e64afb14-dd01-4a53-f9a4-a460914d4701"
      },
      "execution_count": null,
      "outputs": [
        {
          "output_type": "stream",
          "name": "stdout",
          "text": [
            "[(34587, 163.8), (98762, 284.0), (77226, 108.85000000000001), (88112, 84.97)]\n"
          ]
        }
      ]
    },
    {
      "cell_type": "code",
      "source": [],
      "metadata": {
        "id": "q50Nr_84N2-x"
      },
      "execution_count": null,
      "outputs": []
    }
  ]
}